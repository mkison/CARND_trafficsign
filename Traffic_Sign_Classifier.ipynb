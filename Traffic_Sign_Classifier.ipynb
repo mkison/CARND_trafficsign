{
 "cells": [
  {
   "cell_type": "markdown",
   "metadata": {},
   "source": [
    "# Self-Driving Car Engineer Nanodegree\n",
    "\n",
    "## Deep Learning\n",
    "\n",
    "## Project: Build a Traffic Sign Recognition Classifier\n",
    "\n",
    "In this notebook, a template is provided for you to implement your functionality in stages which is required to successfully complete this project. If additional code is required that cannot be included in the notebook, be sure that the Python code is successfully imported and included in your submission, if necessary. Sections that begin with **'Implementation'** in the header indicate where you should begin your implementation for your project. Note that some sections of implementation are optional, and will be marked with **'Optional'** in the header.\n",
    "\n",
    "In addition to implementing code, there will be questions that you must answer which relate to the project and your implementation. Each section where you will answer a question is preceded by a **'Question'** header. Carefully read each question and provide thorough answers in the following text boxes that begin with **'Answer:'**. Your project submission will be evaluated based on your answers to each of the questions and the implementation you provide.\n",
    "\n",
    ">**Note:** Code and Markdown cells can be executed using the **Shift + Enter** keyboard shortcut. In addition, Markdown cells can be edited by typically double-clicking the cell to enter edit mode."
   ]
  },
  {
   "cell_type": "markdown",
   "metadata": {},
   "source": [
    "---\n",
    "## Step 0: Load The Data"
   ]
  },
  {
   "cell_type": "code",
   "execution_count": 1,
   "metadata": {
    "collapsed": false
   },
   "outputs": [
    {
     "name": "stdout",
     "output_type": "stream",
     "text": [
      "[[[[ 75  78  80]\n",
      "   [ 74  76  78]\n",
      "   [ 83  84  83]\n",
      "   ..., \n",
      "   [ 67  74  73]\n",
      "   [ 65  69  68]\n",
      "   [ 66  67  66]]\n",
      "\n",
      "  [[ 82  83  85]\n",
      "   [ 80  80  82]\n",
      "   [ 87  86  83]\n",
      "   ..., \n",
      "   [ 73  77  77]\n",
      "   [ 75  77  75]\n",
      "   [ 79  79  77]]\n",
      "\n",
      "  [[ 79  79  81]\n",
      "   [ 84  83  85]\n",
      "   [ 91  88  89]\n",
      "   ..., \n",
      "   [ 72  74  72]\n",
      "   [ 74  75  71]\n",
      "   [ 78  78  74]]\n",
      "\n",
      "  ..., \n",
      "  [[126 128 133]\n",
      "   [118 123 128]\n",
      "   [108 117 120]\n",
      "   ..., \n",
      "   [ 96  96  90]\n",
      "   [ 99 101  94]\n",
      "   [ 99 103  99]]\n",
      "\n",
      "  [[ 90  94  98]\n",
      "   [ 91  97 103]\n",
      "   [ 77  87  92]\n",
      "   ..., \n",
      "   [104 104  97]\n",
      "   [107 111 102]\n",
      "   [ 95 103  97]]\n",
      "\n",
      "  [[ 85  84  87]\n",
      "   [ 93  99 104]\n",
      "   [ 69  80  85]\n",
      "   ..., \n",
      "   [101 102  94]\n",
      "   [ 98 101  90]\n",
      "   [ 90  97  89]]]\n",
      "\n",
      "\n",
      " [[[ 69  73  73]\n",
      "   [ 75  78  78]\n",
      "   [ 75  77  77]\n",
      "   ..., \n",
      "   [ 75  80  79]\n",
      "   [ 70  76  76]\n",
      "   [ 66  68  70]]\n",
      "\n",
      "  [[ 65  69  69]\n",
      "   [ 73  76  76]\n",
      "   [ 82  82  81]\n",
      "   ..., \n",
      "   [ 86  82  87]\n",
      "   [ 73  78  82]\n",
      "   [ 67  69  73]]\n",
      "\n",
      "  [[ 63  68  68]\n",
      "   [ 71  72  72]\n",
      "   [ 80  78  77]\n",
      "   ..., \n",
      "   [ 98  84  89]\n",
      "   [ 71  75  76]\n",
      "   [ 68  71  69]]\n",
      "\n",
      "  ..., \n",
      "  [[154 133 136]\n",
      "   [149 133 138]\n",
      "   [144 133 137]\n",
      "   ..., \n",
      "   [ 77  78  79]\n",
      "   [ 80  84  79]\n",
      "   [ 92  95  85]]\n",
      "\n",
      "  [[ 99 100 101]\n",
      "   [101 100 102]\n",
      "   [100  97 102]\n",
      "   ..., \n",
      "   [ 81  83  83]\n",
      "   [ 94  97  93]\n",
      "   [105 109 101]]\n",
      "\n",
      "  [[ 72  74  74]\n",
      "   [ 81  82  81]\n",
      "   [ 90  91  96]\n",
      "   ..., \n",
      "   [ 78  78  79]\n",
      "   [103 103 100]\n",
      "   [101 104  96]]]\n",
      "\n",
      "\n",
      " [[[ 72  72  72]\n",
      "   [ 78  78  78]\n",
      "   [ 78  78  74]\n",
      "   ..., \n",
      "   [ 77  81  71]\n",
      "   [ 71  78  72]\n",
      "   [ 63  66  64]]\n",
      "\n",
      "  [[ 67  68  68]\n",
      "   [ 76  75  74]\n",
      "   [ 90  84  83]\n",
      "   ..., \n",
      "   [100  90  84]\n",
      "   [ 76  79  76]\n",
      "   [ 73  74  73]]\n",
      "\n",
      "  [[ 65  69  69]\n",
      "   [ 75  71  71]\n",
      "   [104  92  94]\n",
      "   ..., \n",
      "   [111  86  88]\n",
      "   [ 74  74  74]\n",
      "   [ 70  70  68]]\n",
      "\n",
      "  ..., \n",
      "  [[141 131 116]\n",
      "   [139 128 113]\n",
      "   [136 125 116]\n",
      "   ..., \n",
      "   [ 74  75  75]\n",
      "   [ 73  76  76]\n",
      "   [ 76  79  79]]\n",
      "\n",
      "  [[110 117 109]\n",
      "   [112 114 105]\n",
      "   [113 110 105]\n",
      "   ..., \n",
      "   [ 72  74  74]\n",
      "   [ 80  82  81]\n",
      "   [ 92  94  92]]\n",
      "\n",
      "  [[ 73  78  77]\n",
      "   [ 83  86  83]\n",
      "   [ 93  94  93]\n",
      "   ..., \n",
      "   [ 71  73  72]\n",
      "   [ 82  83  80]\n",
      "   [ 95  97  91]]]\n",
      "\n",
      "\n",
      " ..., \n",
      " [[[ 10  10  12]\n",
      "   [ 12  12  13]\n",
      "   [ 13  11  13]\n",
      "   ..., \n",
      "   [ 12  11  13]\n",
      "   [ 12  11  13]\n",
      "   [ 11  10  13]]\n",
      "\n",
      "  [[ 12  11  13]\n",
      "   [ 13  12  14]\n",
      "   [ 12  11  13]\n",
      "   ..., \n",
      "   [ 12  11  13]\n",
      "   [ 12  11  13]\n",
      "   [ 12  10  12]]\n",
      "\n",
      "  [[ 10  10  13]\n",
      "   [ 11  12  15]\n",
      "   [ 14  14  16]\n",
      "   ..., \n",
      "   [ 12  11  13]\n",
      "   [ 12  12  14]\n",
      "   [ 11  11  11]]\n",
      "\n",
      "  ..., \n",
      "  [[ 10   9  11]\n",
      "   [ 11   9  11]\n",
      "   [  9   9  11]\n",
      "   ..., \n",
      "   [  9   9  12]\n",
      "   [ 10  10  12]\n",
      "   [ 11  10  11]]\n",
      "\n",
      "  [[  9   9  11]\n",
      "   [ 10   9  11]\n",
      "   [ 10   9  11]\n",
      "   ..., \n",
      "   [ 10   9  11]\n",
      "   [ 11  11  14]\n",
      "   [ 11  11  12]]\n",
      "\n",
      "  [[  9   9  12]\n",
      "   [ 11   9  12]\n",
      "   [ 10   9  11]\n",
      "   ..., \n",
      "   [ 10  10  12]\n",
      "   [ 11  11  13]\n",
      "   [ 11  11  13]]]\n",
      "\n",
      "\n",
      " [[[ 13  12  15]\n",
      "   [ 13  13  16]\n",
      "   [ 13  12  13]\n",
      "   ..., \n",
      "   [ 12  11  12]\n",
      "   [ 11  10  11]\n",
      "   [ 11  14  20]]\n",
      "\n",
      "  [[ 14  12  14]\n",
      "   [ 13  12  14]\n",
      "   [ 14  12  13]\n",
      "   ..., \n",
      "   [ 12  11  14]\n",
      "   [ 11  10  11]\n",
      "   [ 10  10  14]]\n",
      "\n",
      "  [[ 12  11  11]\n",
      "   [ 12  11  13]\n",
      "   [ 13  12  13]\n",
      "   ..., \n",
      "   [ 10  10  12]\n",
      "   [ 11  10  12]\n",
      "   [  9   9  12]]\n",
      "\n",
      "  ..., \n",
      "  [[ 12  11  13]\n",
      "   [ 12  10  12]\n",
      "   [  9   8  10]\n",
      "   ..., \n",
      "   [ 13  11  13]\n",
      "   [ 10   9  10]\n",
      "   [  9   9  10]]\n",
      "\n",
      "  [[ 10  10  11]\n",
      "   [ 11  10  12]\n",
      "   [ 11  10  12]\n",
      "   ..., \n",
      "   [ 13  12  14]\n",
      "   [ 10   9  10]\n",
      "   [ 10   9   9]]\n",
      "\n",
      "  [[ 10   9  12]\n",
      "   [ 10   9  11]\n",
      "   [ 10  10  12]\n",
      "   ..., \n",
      "   [ 13  12  14]\n",
      "   [ 11   9  11]\n",
      "   [ 11  10  11]]]\n",
      "\n",
      "\n",
      " [[[ 11  10  12]\n",
      "   [ 11  10  12]\n",
      "   [ 10   9  10]\n",
      "   ..., \n",
      "   [ 17  18  19]\n",
      "   [ 22  21  20]\n",
      "   [ 20  14  15]]\n",
      "\n",
      "  [[ 12  11  11]\n",
      "   [ 12  11  12]\n",
      "   [ 11  10  12]\n",
      "   ..., \n",
      "   [ 41  55  73]\n",
      "   [ 83  80  79]\n",
      "   [ 44  23  20]]\n",
      "\n",
      "  [[ 12  12  13]\n",
      "   [ 12  12  14]\n",
      "   [ 12  11  12]\n",
      "   ..., \n",
      "   [ 82 102 123]\n",
      "   [ 91  83 104]\n",
      "   [ 51  36  42]]\n",
      "\n",
      "  ..., \n",
      "  [[ 11  11  15]\n",
      "   [ 12  11  12]\n",
      "   [ 10   9  10]\n",
      "   ..., \n",
      "   [ 10   9  11]\n",
      "   [ 10   9  11]\n",
      "   [  9   9  10]]\n",
      "\n",
      "  [[ 11  11  13]\n",
      "   [ 10   9  12]\n",
      "   [  9   9  10]\n",
      "   ..., \n",
      "   [ 10   9  11]\n",
      "   [ 10   9  11]\n",
      "   [ 10   9  10]]\n",
      "\n",
      "  [[ 11  11  12]\n",
      "   [ 10  10  10]\n",
      "   [ 10   9  10]\n",
      "   ..., \n",
      "   [  9   9  12]\n",
      "   [ 10  10  12]\n",
      "   [ 10   9  11]]]]\n",
      "\n",
      "Image Shape: (32, 32, 3)\n",
      "\n",
      "Training Set:   31367 samples\n",
      "X Validation Set:   7842 samples\n",
      "y Validation Set:   7842 samples\n",
      "Test Set:       12630 samples\n",
      "Number of labels:       12630\n",
      "32\n"
     ]
    }
   ],
   "source": [
    "import tensorflow as tf\n",
    "\n",
    "# Load pickled data\n",
    "import pickle\n",
    "\n",
    "# TODO: Fill this in based on where you saved the training and testing data\n",
    "\n",
    "training_file = 'train.p'\n",
    "testing_file = 'test.p'\n",
    "\n",
    "with open(training_file, mode='rb') as f:\n",
    "    train = pickle.load(f)\n",
    "with open(testing_file, mode='rb') as f:\n",
    "    test = pickle.load(f)\n",
    "\n",
    "   \n",
    "X_train, y_train = train['features'], train['labels']\n",
    "\n",
    "X_test, y_test = test['features'], test['labels']\n",
    "\n",
    "assert(len(X_train) == len(y_train))\n",
    "assert(len(X_test) == len(y_test))\n",
    "print (X_train)\n",
    "from sklearn.model_selection import train_test_split\n",
    "\n",
    "X_train, X_validate, y_train, y_validate = train_test_split(X_train, y_train, test_size=0.2, random_state=42)\n",
    "print()\n",
    "print(\"Image Shape: {}\".format(X_train[0].shape))\n",
    "print()\n",
    "print(\"Training Set:   {} samples\".format(len(X_train)))\n",
    "print(\"X Validation Set:   {} samples\".format(len(X_validate)))\n",
    "print(\"y Validation Set:   {} samples\".format(len(y_validate)))\n",
    "print(\"Test Set:       {} samples\".format(len(X_test)))\n",
    "print(\"Number of labels:       {}\".format(len(y_test)))\n",
    "#print (train['features'][0][0])#single row\n",
    "#print (train['features'][0])#single row\n",
    "#print (len (train['features'][0]))#single row\n",
    "\n",
    "# now exchage parts of the training set with own images\n",
    "import matplotlib.image as mpimg\n",
    "import matplotlib.pyplot as plt\n",
    "import numpy as np\n",
    "img=mpimg.imread('way.jpg')\n",
    "plt.figure(figsize=(1,1))\n",
    "plt.imshow(img)\n",
    "data = [np.asarray(img, dtype=np.uint8)]\n",
    "#print (data[0])#single row\n",
    "print (len (data[0]))#single row\n",
    "#X_train[0] = data[0]"
   ]
  },
  {
   "cell_type": "markdown",
   "metadata": {},
   "source": [
    "---\n",
    "\n",
    "## Step 1: Dataset Summary & Exploration\n",
    "\n",
    "The pickled data is a dictionary with 4 key/value pairs:\n",
    "\n",
    "- `'features'` is a 4D array containing raw pixel data of the traffic sign images, (num examples, width, height, channels).\n",
    "- `'labels'` is a 1D array containing the label/class id of the traffic sign. The file `signnames.csv` contains id -> name mappings for each id.\n",
    "- `'sizes'` is a list containing tuples, (width, height) representing the the original width and height the image.\n",
    "- `'coords'` is a list containing tuples, (x1, y1, x2, y2) representing coordinates of a bounding box around the sign in the image. **THESE COORDINATES ASSUME THE ORIGINAL IMAGE. THE PICKLED DATA CONTAINS RESIZED VERSIONS (32 by 32) OF THESE IMAGES**\n",
    "\n",
    "Complete the basic data summary below."
   ]
  },
  {
   "cell_type": "code",
   "execution_count": 24,
   "metadata": {
    "collapsed": false
   },
   "outputs": [
    {
     "name": "stdout",
     "output_type": "stream",
     "text": [
      "Number of training examples = 39209\n",
      "Number of testing examples = 12630\n",
      "Image data shape = (32, 32, 3)\n",
      "Number of classes = 43\n"
     ]
    }
   ],
   "source": [
    "### Replace each question mark with the appropriate value.\n",
    "\n",
    "# TODO: Number of training examples\n",
    "n_train = 39209\n",
    "\n",
    "# TODO: Number of testing examples.\n",
    "n_test = 12630\n",
    "\n",
    "# TODO: What's the shape of an traffic sign image?\n",
    "image_shape = (32, 32, 3)\n",
    "\n",
    "# TODO: How many unique classes/labels there are in the dataset.\n",
    "n_classes = 43\n",
    "\n",
    "\n",
    "print(\"Number of training examples =\", n_train)\n",
    "print(\"Number of testing examples =\", n_test)\n",
    "print(\"Image data shape =\", image_shape)\n",
    "print(\"Number of classes =\", n_classes)\n",
    "#print (X_train[10])"
   ]
  },
  {
   "cell_type": "markdown",
   "metadata": {},
   "source": [
    "Visualize the German Traffic Signs Dataset using the pickled file(s). This is open ended, suggestions include: plotting traffic sign images, plotting the count of each sign, etc.\n",
    "\n",
    "The [Matplotlib](http://matplotlib.org/) [examples](http://matplotlib.org/examples/index.html) and [gallery](http://matplotlib.org/gallery.html) pages are a great resource for doing visualizations in Python.\n",
    "\n",
    "**NOTE:** It's recommended you start with something simple first. If you wish to do more, come back to it after you've completed the rest of the sections."
   ]
  },
  {
   "cell_type": "code",
   "execution_count": 34,
   "metadata": {
    "collapsed": false
   },
   "outputs": [
    {
     "name": "stdout",
     "output_type": "stream",
     "text": [
      "1\n"
     ]
    },
    {
     "data": {
      "image/png": "[encoded data removed]",
      "text/plain": [
       "<matplotlib.figure.Figure at 0x1238c7240>"
      ]
     },
     "metadata": {},
     "output_type": "display_data"
    }
   ],
   "source": [
    "### Data exploration visualization goes here.\n",
    "### Feel free to use as many code cells as needed.\n",
    "import random\n",
    "import numpy as np\n",
    "import matplotlib.pyplot as plt\n",
    "# Visualizations will be shown in the notebook.\n",
    "%matplotlib inline\n",
    "\n",
    "\n",
    "index = random.randint(0, n_train)\n",
    "image = X_train[index].squeeze()\n",
    "#X_train[index] = img\n",
    "plt.figure(figsize=(1,1))\n",
    "plt.imshow(image)\n",
    "print(y_train[index])"
   ]
  },
  {
   "cell_type": "code",
   "execution_count": 21,
   "metadata": {
    "collapsed": false
   },
   "outputs": [
    {
     "name": "stdout",
     "output_type": "stream",
     "text": [
      "32\n"
     ]
    },
    {
     "data": {
      "image/png": "[encoded data removed]",
      "text/plain": [
       "<matplotlib.figure.Figure at 0x1234266d8>"
      ]
     },
     "metadata": {},
     "output_type": "display_data"
    }
   ],
   "source": [
    "import matplotlib.image as mpimg\n",
    "img=mpimg.imread('right.jpg')\n",
    "plt.figure(figsize=(1,1))\n",
    "plt.imshow(img)\n",
    "data = [np.asarray(img, dtype=np.uint8)]\n",
    "#print (data[0])#single row\n",
    "print (len (data[0]))#single row"
   ]
  },
  {
   "cell_type": "markdown",
   "metadata": {},
   "source": [
    "----\n",
    "\n",
    "## Step 2: Design and Test a Model Architecture\n",
    "\n",
    "Design and implement a deep learning model that learns to recognize traffic signs. Train and test your model on the [German Traffic Sign Dataset](http://benchmark.ini.rub.de/?section=gtsrb&subsection=dataset).\n",
    "\n",
    "There are various aspects to consider when thinking about this problem:\n",
    "\n",
    "- Neural network architecture\n",
    "- Play around preprocessing techniques (normalization, rgb to grayscale, etc)\n",
    "- Number of examples per label (some have more than others).\n",
    "- Generate fake data.\n",
    "\n",
    "Here is an example of a [published baseline model on this problem](http://yann.lecun.com/exdb/publis/pdf/sermanet-ijcnn-11.pdf). It's not required to be familiar with the approach used in the paper but, it's good practice to try to read papers like these.\n",
    "\n",
    "**NOTE:** The LeNet-5 implementation shown in the [classroom](https://classroom.udacity.com/nanodegrees/nd013/parts/fbf77062-5703-404e-b60c-95b78b2f3f9e/modules/6df7ae49-c61c-4bb2-a23e-6527e69209ec/lessons/601ae704-1035-4287-8b11-e2c2716217ad/concepts/d4aca031-508f-4e0b-b493-e7b706120f81) at the end of the CNN lesson is a solid starting point. You'll have to change the number of classes and possibly the preprocessing, but aside from that it's plug and play!"
   ]
  },
  {
   "cell_type": "markdown",
   "metadata": {},
   "source": [
    "### Implementation\n",
    "\n",
    "Use the code cell (or multiple code cells, if necessary) to implement the first step of your project. Once you have completed your implementation and are satisfied with the results, be sure to thoroughly answer the questions that follow."
   ]
  },
  {
   "cell_type": "code",
   "execution_count": 5,
   "metadata": {
    "collapsed": false
   },
   "outputs": [],
   "source": [
    "### Preprocess the data here.\n",
    "### Feel free to use as many code cells as needed.\n",
    "\n",
    "#SHUFFLE THE DATA\n",
    "from sklearn.utils import shuffle\n",
    "\n",
    "### Don't shuffle data for new images\n",
    "X_train, y_train = shuffle(X_train, y_train)\n",
    "X_validate, y_validate = shuffle(X_validate, y_validate)\n"
   ]
  },
  {
   "cell_type": "markdown",
   "metadata": {},
   "source": [
    "### Question 1 \n",
    "\n",
    "_Describe how you preprocessed the data. Why did you choose that technique?_"
   ]
  },
  {
   "cell_type": "markdown",
   "metadata": {},
   "source": [
    "**Answer:**"
   ]
  },
  {
   "cell_type": "code",
   "execution_count": 6,
   "metadata": {
    "collapsed": true
   },
   "outputs": [],
   "source": [
    "### Generate additional data (OPTIONAL!)\n",
    "### and split the data into training/validation/testing sets here.\n",
    "\n",
    "# 1) split part of the training set using: \n",
    "# X_train, X_validate, y_train, y_validate = train_test_split(X_train, y_train, test_size=0.2, random_state=42)\n",
    "# 2) shuffled the training set and the validation set\n",
    "# 3) no need fot padding as images are already 32 x 32\n",
    "\n",
    "### Feel free to use as many code cells as needed."
   ]
  },
  {
   "cell_type": "markdown",
   "metadata": {},
   "source": [
    "### Question 2\n",
    "\n",
    "_Describe how you set up the training, validation and testing data for your model. **Optional**: If you generated additional data, how did you generate the data? Why did you generate the data? What are the differences in the new dataset (with generated data) from the original dataset?_"
   ]
  },
  {
   "cell_type": "markdown",
   "metadata": {},
   "source": [
    "**Answer:**"
   ]
  },
  {
   "cell_type": "code",
   "execution_count": 56,
   "metadata": {
    "collapsed": false
   },
   "outputs": [],
   "source": [
    "### Define your architecture here.\n",
    "import tensorflow as tf\n",
    "\n",
    "EPOCHS = 5\n",
    "BATCH_SIZE = 128\n",
    "\n",
    "from tensorflow.contrib.layers import flatten\n",
    "\n",
    "def LeNet(x): \n",
    "    print (\"BLA\")\n",
    "    # Arguments used for tf.truncated_normal, randomly defines variables for the weights and biases for each layer\n",
    "    mu = 0\n",
    "    sigma = 0.1\n",
    "    # SOLUTION: Layer 1: Convolutional. Input = 32x32x1. Output = 28x28x6.\n",
    "    conv1_W = tf.Variable(tf.truncated_normal(shape=(5, 5, 3, 6), mean = mu, stddev = sigma))\n",
    "    conv1_b = tf.Variable(tf.zeros(6))\n",
    "    conv1   = tf.nn.conv2d(x, conv1_W, strides=[1, 1, 1, 1], padding='VALID') + conv1_b\n",
    "\n",
    "    # SOLUTION: Activation.\n",
    "    conv1 = tf.nn.relu(conv1)\n",
    "\n",
    "    # SOLUTION: Pooling. Input = 28x28x6. Output = 14x14x6.\n",
    "    conv1 = tf.nn.max_pool(conv1, ksize=[1, 2, 2, 1], strides=[1, 2, 2, 1], padding='VALID')\n",
    "\n",
    "    # SOLUTION: Layer 2: Convolutional. Output = 10x10x16.\n",
    "    conv2_W = tf.Variable(tf.truncated_normal(shape=(5, 5, 6, 16), mean = mu, stddev = sigma))\n",
    "    conv2_b = tf.Variable(tf.zeros(16))\n",
    "    conv2   = tf.nn.conv2d(conv1, conv2_W, strides=[1, 1, 1, 1], padding='VALID') + conv2_b\n",
    "    \n",
    "    # SOLUTION: Activation.\n",
    "    conv2 = tf.nn.relu(conv2)\n",
    "\n",
    "    # SOLUTION: Pooling. Input = 10x10x16. Output = 5x5x16.\n",
    "    conv2 = tf.nn.max_pool(conv2, ksize=[1, 2, 2, 1], strides=[1, 2, 2, 1], padding='VALID')\n",
    "\n",
    "    # SOLUTION: Flatten. Input = 5x5x16. Output = 400.\n",
    "    fc0   = flatten(conv2)\n",
    "    \n",
    "    # SOLUTION: Layer 3: Fully Connected. Input = 400. Output = 120.\n",
    "    fc1_W = tf.Variable(tf.truncated_normal(shape=(400, 120), mean = mu, stddev = sigma))\n",
    "    fc1_b = tf.Variable(tf.zeros(120))\n",
    "    fc1   = tf.matmul(fc0, fc1_W) + fc1_b\n",
    "    \n",
    "    # SOLUTION: Activation.\n",
    "    fc1    = tf.nn.relu(fc1)\n",
    "\n",
    "    # SOLUTION: Layer 4: Fully Connected. Input = 120. Output = 84.\n",
    "    fc2_W  = tf.Variable(tf.truncated_normal(shape=(120, 84), mean = mu, stddev = sigma))\n",
    "    fc2_b  = tf.Variable(tf.zeros(84))\n",
    "    fc2    = tf.matmul(fc1, fc2_W) + fc2_b\n",
    "    \n",
    "    # SOLUTION: Activation.\n",
    "    fc2    = tf.nn.relu(fc2)\n",
    "\n",
    "    # SOLUTION: Layer 5: Fully Connected. Input = 84. Output = 10.\n",
    "    fc3_W  = tf.Variable(tf.truncated_normal(shape=(84, 43), mean = mu, stddev = sigma))\n",
    "    fc3_b  = tf.Variable(tf.zeros(43))\n",
    "    logits = tf.matmul(fc2, fc3_W) + fc3_b\n",
    "    return logits\n",
    "\n",
    "x = tf.placeholder(tf.float32, (None, 32, 32, 3))\n",
    "y = tf.placeholder(tf.int32, (None))\n",
    "one_hot_y = tf.one_hot(y, n_classes)"
   ]
  },
  {
   "cell_type": "markdown",
   "metadata": {},
   "source": [
    "### Question 3\n",
    "\n",
    "_What does your final architecture look like? (Type of model, layers, sizes, connectivity, etc.)  For reference on how to build a deep neural network using TensorFlow, see [Deep Neural Network in TensorFlow\n",
    "](https://classroom.udacity.com/nanodegrees/nd013/parts/fbf77062-5703-404e-b60c-95b78b2f3f9e/modules/6df7ae49-c61c-4bb2-a23e-6527e69209ec/lessons/b516a270-8600-4f93-a0a3-20dfeabe5da6/concepts/83a3a2a2-a9bd-4b7b-95b0-eb924ab14432) from the classroom._\n"
   ]
  },
  {
   "cell_type": "markdown",
   "metadata": {},
   "source": [
    "**Answer:**"
   ]
  },
  {
   "cell_type": "code",
   "execution_count": 57,
   "metadata": {
    "collapsed": false
   },
   "outputs": [
    {
     "name": "stdout",
     "output_type": "stream",
     "text": [
      "BLA\n",
      "Training...\n",
      "\n",
      "EPOCH 1 ...\n",
      "Validation Accuracy = 0.729\n",
      "\n",
      "EPOCH 2 ...\n",
      "Validation Accuracy = 0.857\n",
      "\n",
      "EPOCH 3 ...\n",
      "Validation Accuracy = 0.908\n",
      "\n",
      "EPOCH 4 ...\n",
      "Validation Accuracy = 0.923\n",
      "\n",
      "EPOCH 5 ...\n",
      "Validation Accuracy = 0.932\n",
      "\n",
      "Model saved\n",
      "BLA\n",
      "evaluation_of_logits [[   7.82582808  -90.28068542   85.58210754  -20.22784424  -40.80687332\n",
      "   -75.5197525   -45.2262764    31.37753677  -98.44896698  -39.88119888\n",
      "    45.66530991   11.56026745   20.8205452    31.94255447   31.15744781\n",
      "   -37.63433075  -75.77351379   23.26371193   34.96738434  -12.10309887\n",
      "    99.17779541   47.47577667   45.79459      42.88594055  -89.37843323\n",
      "     4.32479143   12.96918297 -130.31323242  -37.56699753   58.96175385\n",
      "    67.63124847   58.99362564  -69.60295868  -67.02822113   36.20132828\n",
      "    -1.20419598   26.23306274  -71.86156464  -39.27571106  -34.1928215\n",
      "    91.7775116    48.74456406  -18.82017326]]\n",
      "[[  0.00000000e+00   0.00000000e+00   1.24509347e-06   0.00000000e+00\n",
      "    0.00000000e+00   0.00000000e+00   0.00000000e+00   3.58471234e-30\n",
      "    0.00000000e+00   0.00000000e+00   5.74853276e-24   0.00000000e+00\n",
      "    9.32419051e-35   6.30722572e-30   2.87655429e-30   0.00000000e+00\n",
      "    0.00000000e+00   1.07316325e-33   1.29869440e-28   0.00000000e+00\n",
      "    9.99388099e-01   3.51425069e-23   6.54188110e-24   3.56855381e-25\n",
      "    0.00000000e+00   0.00000000e+00   3.62919515e-38   0.00000000e+00\n",
      "    0.00000000e+00   3.42081225e-18   1.99178696e-14   3.53159593e-18\n",
      "    0.00000000e+00   0.00000000e+00   4.46068968e-28   0.00000000e+00\n",
      "    2.09044758e-32   0.00000000e+00   0.00000000e+00   0.00000000e+00\n",
      "    6.10705407e-04   1.24985632e-22   0.00000000e+00]]\n",
      "0.999388\n",
      "20\n"
     ]
    }
   ],
   "source": [
    "### Train your model here.\n",
    "### Feel free to use as many code cells as needed.\n",
    "\n",
    "#plt.figure(figsize=(1,1))\n",
    "rate = 0.001\n",
    "\n",
    "logits = LeNet(x)\n",
    "\n",
    "cross_entropy = tf.nn.softmax_cross_entropy_with_logits(logits, one_hot_y)\n",
    "loss_operation = tf.reduce_mean(cross_entropy)\n",
    "optimizer = tf.train.AdamOptimizer(learning_rate = rate)\n",
    "training_operation = optimizer.minimize(loss_operation)\n",
    "\n",
    "correct_prediction = tf.equal(tf.argmax(logits, 1), tf.argmax(one_hot_y, 1))\n",
    "accuracy_operation = tf.reduce_mean(tf.cast(correct_prediction, tf.float32))\n",
    "saver = tf.train.Saver()\n",
    "\n",
    "def evaluate(X_data, y_data):\n",
    "    num_examples = len(X_data)\n",
    "    total_accuracy = 0\n",
    "    sess = tf.get_default_session()\n",
    "    for offset in range(0, num_examples, BATCH_SIZE):\n",
    "        batch_x, batch_y = X_data[offset:offset+BATCH_SIZE], y_data[offset:offset+BATCH_SIZE]\n",
    "        \n",
    "        #image = batch_x[0].squeeze()\n",
    "        #plt.imshow(image)\n",
    "        \n",
    "        accuracy = sess.run(accuracy_operation, feed_dict={x: batch_x, y: batch_y})\n",
    "        total_accuracy += (accuracy * len(batch_x))\n",
    "    return total_accuracy / num_examples\n",
    "\n",
    "with tf.Session() as sess:\n",
    "    sess.run(tf.global_variables_initializer())\n",
    "    num_examples = len(X_train)\n",
    "    \n",
    "    print(\"Training...\")\n",
    "    print()\n",
    "    for i in range(EPOCHS):\n",
    "        X_train, y_train = shuffle(X_train, y_train) # DONT SHUFFLE FOR NEW IMAGES\n",
    "        for offset in range(0, num_examples, BATCH_SIZE):\n",
    "            end = offset + BATCH_SIZE\n",
    "            batch_x, batch_y = X_train[offset:end], y_train[offset:end]\n",
    "            sess.run(training_operation, feed_dict={x: batch_x, y: batch_y})\n",
    "            \n",
    "        validation_accuracy = evaluate(X_validate, y_validate)\n",
    "        print(\"EPOCH {} ...\".format(i+1))\n",
    "        print(\"Validation Accuracy = {:.3f}\".format(validation_accuracy))\n",
    "        print()\n",
    "    saver.save(sess, 'lenet')\n",
    "    print(\"Model saved\")\n",
    "\n"
   ]
  },
  {
   "cell_type": "markdown",
   "metadata": {},
   "source": [
    "### Question 4\n",
    "\n",
    "_How did you train your model? (Type of optimizer, batch size, epochs, hyperparameters, etc.)_\n"
   ]
  },
  {
   "cell_type": "markdown",
   "metadata": {},
   "source": [
    "**Answer:**\n",
    "With the leNet start setup\n"
   ]
  },
  {
   "cell_type": "markdown",
   "metadata": {},
   "source": [
    "### Question 5\n",
    "\n",
    "\n",
    "_What approach did you take in coming up with a solution to this problem? It may have been a process of trial and error, in which case, outline the steps you took to get to the final solution and why you chose those steps. Perhaps your solution involved an already well known implementation or architecture. In this case, discuss why you think this is suitable for the current problem._"
   ]
  },
  {
   "cell_type": "markdown",
   "metadata": {},
   "source": [
    "**Answer:**"
   ]
  },
  {
   "cell_type": "markdown",
   "metadata": {},
   "source": [
    "---\n",
    "\n",
    "## Step 3: Test a Model on New Images\n",
    "\n",
    "Take several pictures of traffic signs that you find on the web or around you (at least five), and run them through your classifier on your computer to produce example results. The classifier might not recognize some local signs but it could prove interesting nonetheless.\n",
    "\n",
    "You may find `signnames.csv` useful as it contains mappings from the class id (integer) to the actual sign name."
   ]
  },
  {
   "cell_type": "markdown",
   "metadata": {},
   "source": [
    "### Implementation\n",
    "\n",
    "Use the code cell (or multiple code cells, if necessary) to implement the first step of your project. Once you have completed your implementation and are satisfied with the results, be sure to thoroughly answer the questions that follow."
   ]
  },
  {
   "cell_type": "code",
   "execution_count": 9,
   "metadata": {
    "collapsed": true
   },
   "outputs": [],
   "source": [
    "### Load the images and plot them here.\n",
    "### Feel free to use as many code cells as needed.\n",
    "\n",
    "import matplotlib.image as mpimg\n",
    "img=mpimg.imread('right.jpg')\n",
    "#plt.figure(figsize=(1,1))\n",
    "#plt.imshow(img)\n",
    "#data = np.asarray(img, dtype=np.uint8)\n",
    "#print (data)"
   ]
  },
  {
   "cell_type": "markdown",
   "metadata": {},
   "source": [
    "### Question 6\n",
    "\n",
    "_Choose five candidate images of traffic signs and provide them in the report. Are there any particular qualities of the image(s) that might make classification difficult? It could be helpful to plot the images in the notebook._\n",
    "\n"
   ]
  },
  {
   "cell_type": "markdown",
   "metadata": {},
   "source": [
    "**Answer:**"
   ]
  },
  {
   "cell_type": "code",
   "execution_count": 58,
   "metadata": {
    "collapsed": false
   },
   "outputs": [
    {
     "name": "stdout",
     "output_type": "stream",
     "text": [
      "BLA\n",
      "evaluation_of_logits [[  63.54509735    9.45077515  -72.86141205   82.11660004    9.54252911\n",
      "    54.48573303  -99.79209137  -51.02544403    2.26693296 -110.8157959\n",
      "    78.67153168  -27.71003914  -55.47180176   55.0735817  -121.99720764\n",
      "    28.0991497   -37.91964722    6.29844856   84.90731049   47.88581467\n",
      "     1.05420887   83.30970001   28.78857613  -21.87630081    5.59088039\n",
      "    31.19874191   45.63661194   18.74599838  -63.18849945  -75.80102539\n",
      "    21.25108528    6.69789219   71.52777863  -52.28321457  -41.60394669\n",
      "   -36.90662003  -41.87814331   35.87021255  -46.25020981   71.85605621\n",
      "   -69.10398102   52.84134293  -44.99022293]]\n",
      "[[  4.17034018e-10   1.34062036e-33   0.00000000e+00   4.84922789e-02\n",
      "    1.46944324e-33   4.84997547e-14   0.00000000e+00   0.00000000e+00\n",
      "    1.01718834e-36   0.00000000e+00   1.54702889e-03   0.00000000e+00\n",
      "    0.00000000e+00   8.73049666e-14   0.00000000e+00   1.68342141e-25\n",
      "    0.00000000e+00   5.73148201e-35   7.90064871e-01   6.59829004e-17\n",
      "    3.02498053e-37   1.59892946e-01   3.35432606e-25   0.00000000e+00\n",
      "    2.82471895e-35   3.73531989e-24   6.96009372e-18   1.45937973e-29\n",
      "    0.00000000e+00   0.00000000e+00   1.78695893e-28   8.54561951e-35\n",
      "    1.22181632e-06   0.00000000e+00   0.00000000e+00   0.00000000e+00\n",
      "    0.00000000e+00   3.99136759e-22   0.00000000e+00   1.69658279e-06\n",
      "    0.00000000e+00   9.36677239e-15   0.00000000e+00]]\n",
      "0.790065\n",
      "18\n"
     ]
    }
   ],
   "source": [
    "### Run the predictions here.\n",
    "### Feel free to use as many code cells as needed.\n",
    "\n",
    "import matplotlib.image as mpimg\n",
    "from numpy import array\n",
    "from PIL import Image\n",
    "import numpy as np\n",
    "\n",
    "image = np.zeros((32, 32, 3))\n",
    "img = Image.open('30.jpg')\n",
    "#plt.figure(figsize=(1,1))\n",
    "#plt.imshow(img)\n",
    "img = img.resize((32, 32))\n",
    "image = array(img).reshape(1, 32,32,3)\n",
    "    \n",
    "x = tf.placeholder(tf.float32, (None, 32, 32, 3))\n",
    "evaluationSoftmax = tf.placeholder(tf.float32)\n",
    "\n",
    "logits = LeNet(x)\n",
    "softmax = tf.nn.softmax(evaluationSoftmax ) \n",
    "\n",
    "init = tf.global_variables_initializer()\n",
    "\n",
    "with tf.Session() as sess:\n",
    "    sess.run(init)\n",
    "    \n",
    "    evaluation_of_logits = sess.run(logits, feed_dict={x: image })\n",
    "    print (\"evaluation_of_logits\", evaluation_of_logits)\n",
    "    output = sess.run(softmax, feed_dict={evaluationSoftmax: evaluation_of_logits})\n",
    "    print (output)\n",
    "    print (np.amax (output))\n",
    "    print (np.argmax (output))\n"
   ]
  },
  {
   "cell_type": "markdown",
   "metadata": {},
   "source": [
    "### Question 7\n",
    "\n",
    "_Is your model able to perform equally well on captured pictures when compared to testing on the dataset? The simplest way to do this check the accuracy of the predictions. For example, if the model predicted 1 out of 5 signs correctly, it's 20% accurate._\n",
    "\n",
    "_**NOTE:** You could check the accuracy manually by using `signnames.csv` (same directory). This file has a mapping from the class id (0-42) to the corresponding sign name. So, you could take the class id the model outputs, lookup the name in `signnames.csv` and see if it matches the sign from the image._\n"
   ]
  },
  {
   "cell_type": "markdown",
   "metadata": {},
   "source": [
    "**Answer:**"
   ]
  },
  {
   "cell_type": "code",
   "execution_count": null,
   "metadata": {
    "collapsed": true
   },
   "outputs": [],
   "source": [
    "### Visualize the softmax probabilities here.\n",
    "### Feel free to use as many code cells as needed."
   ]
  },
  {
   "cell_type": "markdown",
   "metadata": {},
   "source": [
    "### Question 8\n",
    "\n",
    "*Use the model's softmax probabilities to visualize the **certainty** of its predictions, [`tf.nn.top_k`](https://www.tensorflow.org/versions/r0.12/api_docs/python/nn.html#top_k) could prove helpful here. Which predictions is the model certain of? Uncertain? If the model was incorrect in its initial prediction, does the correct prediction appear in the top k? (k should be 5 at most)*\n",
    "\n",
    "`tf.nn.top_k` will return the values and indices (class ids) of the top k predictions. So if k=3, for each sign, it'll return the 3 largest probabilities (out of a possible 43) and the correspoding class ids.\n",
    "\n",
    "Take this numpy array as an example:\n",
    "\n",
    "```\n",
    "# (5, 6) array\n",
    "a = np.array([[ 0.24879643,  0.07032244,  0.12641572,  0.34763842,  0.07893497,\n",
    "         0.12789202],\n",
    "       [ 0.28086119,  0.27569815,  0.08594638,  0.0178669 ,  0.18063401,\n",
    "         0.15899337],\n",
    "       [ 0.26076848,  0.23664738,  0.08020603,  0.07001922,  0.1134371 ,\n",
    "         0.23892179],\n",
    "       [ 0.11943333,  0.29198961,  0.02605103,  0.26234032,  0.1351348 ,\n",
    "         0.16505091],\n",
    "       [ 0.09561176,  0.34396535,  0.0643941 ,  0.16240774,  0.24206137,\n",
    "         0.09155967]])\n",
    "```\n",
    "\n",
    "Running it through `sess.run(tf.nn.top_k(tf.constant(a), k=3))` produces:\n",
    "\n",
    "```\n",
    "TopKV2(values=array([[ 0.34763842,  0.24879643,  0.12789202],\n",
    "       [ 0.28086119,  0.27569815,  0.18063401],\n",
    "       [ 0.26076848,  0.23892179,  0.23664738],\n",
    "       [ 0.29198961,  0.26234032,  0.16505091],\n",
    "       [ 0.34396535,  0.24206137,  0.16240774]]), indices=array([[3, 0, 5],\n",
    "       [0, 1, 4],\n",
    "       [0, 5, 1],\n",
    "       [1, 3, 5],\n",
    "       [1, 4, 3]], dtype=int32))\n",
    "```\n",
    "\n",
    "Looking just at the first row we get `[ 0.34763842,  0.24879643,  0.12789202]`, you can confirm these are the 3 largest probabilities in `a`. You'll also notice `[3, 0, 5]` are the corresponding indices."
   ]
  },
  {
   "cell_type": "markdown",
   "metadata": {},
   "source": [
    "**Answer:**"
   ]
  },
  {
   "cell_type": "markdown",
   "metadata": {},
   "source": [
    "> **Note**: Once you have completed all of the code implementations and successfully answered each question above, you may finalize your work by exporting the iPython Notebook as an HTML document. You can do this by using the menu above and navigating to  \\n\",\n",
    "    \"**File -> Download as -> HTML (.html)**. Include the finished document along with this notebook as your submission."
   ]
  },
  {
   "cell_type": "code",
   "execution_count": null,
   "metadata": {
    "collapsed": true
   },
   "outputs": [],
   "source": []
  }
 ],
 "metadata": {
  "anaconda-cloud": {},
  "kernelspec": {
   "display_name": "Python [conda env:IntroToTensorFlow]",
   "language": "python",
   "name": "conda-env-IntroToTensorFlow-py"
  },
  "language_info": {
   "codemirror_mode": {
    "name": "ipython",
    "version": 3
   },
   "file_extension": ".py",
   "mimetype": "text/x-python",
   "name": "python",
   "nbconvert_exporter": "python",
   "pygments_lexer": "ipython3",
   "version": "3.5.2"
  }
 },
 "nbformat": 4,
 "nbformat_minor": 1
}
